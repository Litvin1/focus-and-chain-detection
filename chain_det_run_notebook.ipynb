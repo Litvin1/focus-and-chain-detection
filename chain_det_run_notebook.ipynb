{
 "cells": [
  {
   "cell_type": "markdown",
   "source": [
    "# This class is using the angle-continuity algorithm to assign cell masks to chains #"
   ],
   "metadata": {
    "collapsed": false
   }
  },
  {
   "cell_type": "code",
   "execution_count": 1,
   "outputs": [],
   "source": [
    "from chain_detector import loadAndInitialize, masksToGraph, dropShortConnectedComponent, detectLeaves, detectChains, loadPkl, manuelChainCorrection, removeDuplicateChains, removeEmptyChains, showNapariWithColoredChainsAndAddChainFromScratch, assurePositionsInChains, saveListOfGraphsToPklAndChains3D\n",
    "from focus_differentiator import getRegionProps\n",
    "#import os"
   ],
   "metadata": {
    "collapsed": false
   }
  },
  {
   "cell_type": "code",
   "execution_count": 2,
   "metadata": {
    "collapsed": true
   },
   "outputs": [],
   "source": [
    "LOAD_CHAINS_GRAPHS = False\n",
    "FOV = 0\n",
    "HYB = 0\n",
    "Z_SPAN = 7\n",
    "XY_SPAN = 2\n",
    "ANGLE_EPS = 85.0\n",
    "ANGLE_DIFF_TIE_BREAKER = 65.0\n",
    "PIXEL_THRESH = 9\n",
    "CHAIN_LENGTH_LOWER_BOUND = 1\n",
    "BEGIN_MANUAL_CORRECTION_FROM_CHAIN = 50\n",
    "END_MANUAL_CHAIN_CORRECTION_AT_CHAIN = 52\n",
    "IMG_SLICE = [0, -1, 0, -1]\n",
    "#IMG_SLICE = [300, 600, 300, 600]\n",
    "FILE_NAME = f'fov_{FOV}_hyb_{HYB}'\n",
    "FOCUS_MASKS_PATH = rf'\\fov_{FOV}_hyb_{HYB}\\{FILE_NAME}.seg.npy'\n",
    "CELL_PROPS_PATH = f'{FILE_NAME}\\\\{FILE_NAME}.props.txt'\n",
    "DATA_DIR = r'Z:\\sandbox\\for_vadim\\nostoc_auto_110924'\n",
    "LIST_OF_CHAIN_GRAPHS_FILE_NAME = f'{FILE_NAME}\\\\fov_{FOV}_hyb_{HYB}.list_of_chain_Graphs.pkl'\n",
    "CHAINS_AS_3D_FILENAME = f'fov_{FOV}_hyb_{HYB}.chains_as_3d_array'"
   ]
  },
  {
   "cell_type": "markdown",
   "source": [
    "# Running the angle-continuity algorithm, or loading\n",
    "1. Change dir to current FOV we are working on.\n",
    "2. If LOAD_CHAINS_GRAPHS is False:\n",
    "    Load data structures: phase image, focus masks calculated in previous notebook, and dimensions\n",
    "    Convert the image masks to Graph representation\n",
    "    find the leaves (the chain tips, cell masks with one neighbor)\n",
    "    Run the angle continuity algorith\n",
    "3. If LOAD_CHAINS_GRAPHS is True:\n",
    "    Load the images and the chains from file"
   ],
   "metadata": {
    "collapsed": false
   }
  },
  {
   "cell_type": "code",
   "execution_count": 3,
   "outputs": [
    {
     "name": "stdout",
     "output_type": "stream",
     "text": [
      "Loading image and segmentation masks...\n"
     ]
    },
    {
     "name": "stderr",
     "output_type": "stream",
     "text": [
      "Converting to Graph representation...: 100%|██████████| 17/17 [00:00<00:00, 25.90it/s]\n"
     ]
    },
    {
     "name": "stdout",
     "output_type": "stream",
     "text": [
      "Dropping non-chains connected components...\n",
      "Using angle continuity algorithm for detecting chains.\n",
      "330 leaves remaining...\n",
      "328 leaves remaining...\n",
      "326 leaves remaining...\n",
      "325 leaves remaining...\n",
      "323 leaves remaining...\n",
      "322 leaves remaining...\n",
      "320 leaves remaining...\n",
      "318 leaves remaining...\n",
      "318 leaves remaining...\n",
      "316 leaves remaining...\n",
      "314 leaves remaining...\n",
      "315 leaves remaining...\n",
      "314 leaves remaining...\n",
      "312 leaves remaining...\n",
      "310 leaves remaining...\n",
      "310 leaves remaining...\n",
      "308 leaves remaining...\n",
      "306 leaves remaining...\n",
      "305 leaves remaining...\n",
      "303 leaves remaining...\n",
      "301 leaves remaining...\n",
      "299 leaves remaining...\n",
      "297 leaves remaining...\n",
      "296 leaves remaining...\n",
      "294 leaves remaining...\n",
      "292 leaves remaining...\n",
      "291 leaves remaining...\n",
      "293 leaves remaining...\n",
      "291 leaves remaining...\n",
      "289 leaves remaining...\n",
      "287 leaves remaining...\n",
      "285 leaves remaining...\n",
      "283 leaves remaining...\n",
      "284 leaves remaining...\n",
      "282 leaves remaining...\n",
      "280 leaves remaining...\n",
      "278 leaves remaining...\n",
      "276 leaves remaining...\n",
      "274 leaves remaining...\n",
      "272 leaves remaining...\n",
      "270 leaves remaining...\n",
      "268 leaves remaining...\n",
      "266 leaves remaining...\n",
      "264 leaves remaining...\n",
      "262 leaves remaining...\n",
      "260 leaves remaining...\n",
      "258 leaves remaining...\n",
      "256 leaves remaining...\n",
      "254 leaves remaining...\n",
      "253 leaves remaining...\n",
      "251 leaves remaining...\n",
      "249 leaves remaining...\n",
      "247 leaves remaining...\n",
      "245 leaves remaining...\n",
      "243 leaves remaining...\n",
      "241 leaves remaining...\n",
      "241 leaves remaining...\n",
      "239 leaves remaining...\n",
      "237 leaves remaining...\n",
      "235 leaves remaining...\n",
      "234 leaves remaining...\n",
      "233 leaves remaining...\n",
      "231 leaves remaining...\n",
      "229 leaves remaining...\n",
      "227 leaves remaining...\n",
      "227 leaves remaining...\n",
      "226 leaves remaining...\n",
      "224 leaves remaining...\n",
      "222 leaves remaining...\n",
      "220 leaves remaining...\n",
      "219 leaves remaining...\n",
      "217 leaves remaining...\n",
      "215 leaves remaining...\n",
      "213 leaves remaining...\n",
      "211 leaves remaining...\n",
      "209 leaves remaining...\n",
      "209 leaves remaining...\n",
      "207 leaves remaining...\n",
      "205 leaves remaining...\n",
      "203 leaves remaining...\n",
      "201 leaves remaining...\n",
      "199 leaves remaining...\n",
      "197 leaves remaining...\n",
      "195 leaves remaining...\n",
      "194 leaves remaining...\n",
      "192 leaves remaining...\n",
      "190 leaves remaining...\n",
      "188 leaves remaining...\n",
      "186 leaves remaining...\n",
      "185 leaves remaining...\n",
      "183 leaves remaining...\n",
      "181 leaves remaining...\n",
      "179 leaves remaining...\n",
      "177 leaves remaining...\n",
      "175 leaves remaining...\n",
      "174 leaves remaining...\n",
      "172 leaves remaining...\n",
      "170 leaves remaining...\n",
      "169 leaves remaining...\n",
      "167 leaves remaining...\n",
      "165 leaves remaining...\n",
      "163 leaves remaining...\n",
      "163 leaves remaining...\n",
      "161 leaves remaining...\n",
      "159 leaves remaining...\n",
      "159 leaves remaining...\n",
      "157 leaves remaining...\n",
      "155 leaves remaining...\n",
      "153 leaves remaining...\n",
      "151 leaves remaining...\n",
      "149 leaves remaining...\n",
      "147 leaves remaining...\n",
      "145 leaves remaining...\n",
      "144 leaves remaining...\n",
      "142 leaves remaining...\n",
      "140 leaves remaining...\n",
      "138 leaves remaining...\n",
      "138 leaves remaining...\n",
      "138 leaves remaining...\n",
      "136 leaves remaining...\n",
      "134 leaves remaining...\n",
      "132 leaves remaining...\n",
      "130 leaves remaining...\n",
      "128 leaves remaining...\n",
      "126 leaves remaining...\n",
      "124 leaves remaining...\n",
      "122 leaves remaining...\n",
      "120 leaves remaining...\n",
      "118 leaves remaining...\n",
      "116 leaves remaining...\n",
      "117 leaves remaining...\n",
      "115 leaves remaining...\n",
      "116 leaves remaining...\n",
      "114 leaves remaining...\n",
      "112 leaves remaining...\n",
      "112 leaves remaining...\n",
      "110 leaves remaining...\n",
      "109 leaves remaining...\n",
      "108 leaves remaining...\n",
      "106 leaves remaining...\n",
      "104 leaves remaining...\n",
      "104 leaves remaining...\n",
      "102 leaves remaining...\n",
      "100 leaves remaining...\n",
      "98 leaves remaining...\n",
      "96 leaves remaining...\n",
      "96 leaves remaining...\n",
      "93 leaves remaining...\n",
      "92 leaves remaining...\n",
      "90 leaves remaining...\n",
      "88 leaves remaining...\n",
      "88 leaves remaining...\n",
      "88 leaves remaining...\n",
      "86 leaves remaining...\n",
      "84 leaves remaining...\n",
      "82 leaves remaining...\n",
      "80 leaves remaining...\n",
      "78 leaves remaining...\n",
      "76 leaves remaining...\n",
      "74 leaves remaining...\n",
      "72 leaves remaining...\n",
      "70 leaves remaining...\n",
      "68 leaves remaining...\n",
      "66 leaves remaining...\n",
      "64 leaves remaining...\n",
      "62 leaves remaining...\n",
      "60 leaves remaining...\n",
      "58 leaves remaining...\n",
      "56 leaves remaining...\n",
      "54 leaves remaining...\n",
      "52 leaves remaining...\n",
      "50 leaves remaining...\n",
      "48 leaves remaining...\n",
      "46 leaves remaining...\n",
      "44 leaves remaining...\n",
      "42 leaves remaining...\n",
      "40 leaves remaining...\n",
      "40 leaves remaining...\n",
      "38 leaves remaining...\n",
      "36 leaves remaining...\n",
      "35 leaves remaining...\n",
      "34 leaves remaining...\n",
      "32 leaves remaining...\n",
      "30 leaves remaining...\n",
      "28 leaves remaining...\n",
      "26 leaves remaining...\n",
      "24 leaves remaining...\n",
      "22 leaves remaining...\n",
      "20 leaves remaining...\n",
      "18 leaves remaining...\n",
      "16 leaves remaining...\n",
      "14 leaves remaining...\n",
      "12 leaves remaining...\n",
      "11 leaves remaining...\n",
      "9 leaves remaining...\n",
      "7 leaves remaining...\n",
      "5 leaves remaining...\n",
      "4 leaves remaining...\n",
      "2 leaves remaining...\n",
      "Saving chains in Graph list and as 3D array...\n",
      "Chains are saved in .pkl file\n"
     ]
    }
   ],
   "source": [
    "#os.chdir(f'C:\\\\Users\\\\LITVINOV\\\\PycharmProjects\\\\anabaenaSeg\\\\fov_{FOV}_hyb_{HYB}')\n",
    "#full_path_for_graphs = f'{FILE_NAME}\\\\' + LIST_OF_CHAIN_GRAPHS_FILE_NAME\n",
    "if not LOAD_CHAINS_GRAPHS:\n",
    "    img, masks, z_dim, r_dim, c_dim, adjacency_g = loadAndInitialize(DATA_DIR, FILE_NAME, FOCUS_MASKS_PATH, IMG_SLICE)\n",
    "        #masks = masks[:, IMG_SLICE[0]:IMG_SLICE[1], IMG_SLICE[2]:IMG_SLICE[3]]  # z (depth),c (channel),x,y\n",
    "        # Only phase\n",
    "    img = img[:, 0, :, :]\n",
    "    adjacency_g = masksToGraph(masks, adjacency_g, r_dim, c_dim, z_dim, z_span=Z_SPAN, xy_span=XY_SPAN, pixel_thresh=PIXEL_THRESH)\n",
    "    adjacency_g = dropShortConnectedComponent(adjacency_g, CHAIN_LENGTH_LOWER_BOUND)\n",
    "    leaves = detectLeaves(adjacency_g)\n",
    "    chains_g = detectChains(masks, leaves, adjacency_g, ANGLE_EPS, ANGLE_DIFF_TIE_BREAKER)\n",
    "\n",
    "    saveListOfGraphsToPklAndChains3D(chains_g, None, LIST_OF_CHAIN_GRAPHS_FILE_NAME, CHAINS_AS_3D_FILENAME)\n",
    "else:\n",
    "    img, masks, _, _, _, _ = loadAndInitialize(DATA_DIR, FILE_NAME, FOCUS_MASKS_PATH, IMG_SLICE)\n",
    "    img = img[:, 0, :, :]\n",
    "    chains_g = loadPkl(LIST_OF_CHAIN_GRAPHS_FILE_NAME)"
   ],
   "metadata": {
    "collapsed": false
   }
  },
  {
   "cell_type": "markdown",
   "source": [
    "# Manually correct the chain assignment if needed\n",
    "The function loops over all chains from \"BEGIN_...\" to \"END_...\" parametres and correcting them manually (adding and dropping masks)"
   ],
   "metadata": {
    "collapsed": false
   }
  },
  {
   "cell_type": "code",
   "execution_count": 4,
   "outputs": [
    {
     "name": "stdout",
     "output_type": "stream",
     "text": [
      "<class 'numpy.ndarray'>\n"
     ]
    },
    {
     "name": "stderr",
     "output_type": "stream",
     "text": [
      "WARNING: DirectWrite: CreateFontFaceFromHDC() failed (Indicates an error in an input file such as a font file.) for QFontDef(Family=\"MS Sans Serif\", pointsize=12, pixelsize=16, styleHint=5, weight=400, stretch=100, hintingPreference=0) LOGFONT(\"MS Sans Serif\", lfWidth=0, lfHeight=-16) dpi=96\n"
     ]
    },
    {
     "name": "stdout",
     "output_type": "stream",
     "text": [
      "<class 'numpy.ndarray'>\n",
      "<class 'numpy.ndarray'>\n",
      "<class 'numpy.ndarray'>\n"
     ]
    }
   ],
   "source": [
    "for chain_n in range(BEGIN_MANUAL_CORRECTION_FROM_CHAIN, END_MANUAL_CHAIN_CORRECTION_AT_CHAIN):\n",
    "    chain = chains_g[chain_n]\n",
    "    chains_g[chain_n] = manuelChainCorrection(chain, masks, img, BEGIN_MANUAL_CORRECTION_FROM_CHAIN, END_MANUAL_CHAIN_CORRECTION_AT_CHAIN, LIST_OF_CHAIN_GRAPHS_FILE_NAME, chain_n)"
   ],
   "metadata": {
    "collapsed": false
   }
  },
  {
   "cell_type": "markdown",
   "source": [
    "# Check if there are any duplicate or empty chains"
   ],
   "metadata": {
    "collapsed": false
   }
  },
  {
   "cell_type": "code",
   "execution_count": 5,
   "outputs": [
    {
     "name": "stderr",
     "output_type": "stream",
     "text": [
      "Checking that each node appears only in one chain: 100%|██████████| 199/199 [00:00<?, ?it/s]"
     ]
    },
    {
     "name": "stdout",
     "output_type": "stream",
     "text": [
      "Number of chains before removing duplicated and empty chains: 199\n",
      "Number of chains after removing duplicated and empty chains: 199\n"
     ]
    },
    {
     "name": "stderr",
     "output_type": "stream",
     "text": [
      "\n"
     ]
    }
   ],
   "source": [
    "chains_g, assigned_masks = removeDuplicateChains(chains_g)\n",
    "chains_g = removeEmptyChains(chains_g)"
   ],
   "metadata": {
    "collapsed": false
   }
  },
  {
   "cell_type": "markdown",
   "source": [
    "# Show all chains with Napari, and assure that the relative positioning of cells in each chain are reliable\n",
    "The loading can take a while, and the Napari window will be shown frozen.\n",
    "For assuring the positioning, we need to load cell region_props that was created in the focus_differentiator step"
   ],
   "metadata": {
    "collapsed": false
   }
  },
  {
   "cell_type": "code",
   "execution_count": 6,
   "outputs": [
    {
     "name": "stderr",
     "output_type": "stream",
     "text": [
      "WARNING: QWindowsWindow::setGeometry: Unable to set geometry 1450x1442-675+140 (frame: 1474x1506-687+88) on QWidgetWindow/\"_QtMainWindowClassWindow\" on \"DELL P2715Q\". Resulting geometry: 1442x1417-671+161 (frame: 1466x1481-683+109) margins: 12, 52, 12, 12 minimum size: 385x501 MINMAXINFO(maxSize=POINT(x=0, y=0), maxpos=POINT(x=0, y=0), maxtrack=POINT(x=0, y=0), mintrack=POINT(x=698, y=941)))\n",
      "Showing chains with Napari: 100%|██████████| 199/199 [01:23<00:00,  2.37it/s]\n"
     ]
    },
    {
     "name": "stdout",
     "output_type": "stream",
     "text": [
      "All cell positions in chain are consistent with centroid locations.\n"
     ]
    }
   ],
   "source": [
    "chains_g, all_chains_3d, = showNapariWithColoredChainsAndAddChainFromScratch(img, chains_g, masks, assigned_masks)\n",
    "props = getRegionProps(None, file_name=CELL_PROPS_PATH, load=True)\n",
    "chains_g = assurePositionsInChains(chains_g, props)"
   ],
   "metadata": {
    "collapsed": false
   }
  },
  {
   "cell_type": "markdown",
   "source": [
    "# Save the chains assignment as Graphs"
   ],
   "metadata": {
    "collapsed": false
   }
  },
  {
   "cell_type": "code",
   "execution_count": 7,
   "outputs": [
    {
     "name": "stdout",
     "output_type": "stream",
     "text": [
      "Saving chains in Graph list and as 3D array...\n",
      "Chains are saved in .pkl file\n"
     ]
    }
   ],
   "source": [
    "saveListOfGraphsToPklAndChains3D(chains_g, all_chains_3d, LIST_OF_CHAIN_GRAPHS_FILE_NAME, CHAINS_AS_3D_FILENAME)\n"
   ],
   "metadata": {
    "collapsed": false
   }
  },
  {
   "cell_type": "markdown",
   "source": [],
   "metadata": {
    "collapsed": false
   }
  },
  {
   "cell_type": "markdown",
   "source": [],
   "metadata": {
    "collapsed": false
   }
  }
 ],
 "metadata": {
  "kernelspec": {
   "display_name": "Python 3",
   "language": "python",
   "name": "python3"
  },
  "language_info": {
   "codemirror_mode": {
    "name": "ipython",
    "version": 2
   },
   "file_extension": ".py",
   "mimetype": "text/x-python",
   "name": "python",
   "nbconvert_exporter": "python",
   "pygments_lexer": "ipython2",
   "version": "2.7.6"
  }
 },
 "nbformat": 4,
 "nbformat_minor": 0
}
