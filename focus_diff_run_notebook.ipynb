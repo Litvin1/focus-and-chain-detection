{
 "cells": [
  {
   "cell_type": "markdown",
   "source": [
    "### Important: run the blocks one by one and not with \"run_all\" command ###\n",
    "Imports from the main class"
   ],
   "metadata": {
    "collapsed": false
   }
  },
  {
   "cell_type": "code",
   "execution_count": null,
   "outputs": [],
   "source": [
    "from focus_differentiator import loadImgTrainModel, relabelMasks, saveModelSegmentationsAndProps, loadNd2SaveTiff, loadModelSegmentations, DifferentiateFocusLayer, createFocusMasks, loadFocusMasks, useBrushToAddAndDrop, relabelMasksConsecutive, getRegionProps, addHeterocystColumn\n",
    "import os\n",
    "import numpy as np"
   ],
   "metadata": {
    "collapsed": false
   }
  },
  {
   "cell_type": "markdown",
   "source": [
    "Constant parameters. Details in comment before the constant"
   ],
   "metadata": {
    "collapsed": false
   }
  },
  {
   "cell_type": "code",
   "execution_count": null,
   "outputs": [],
   "source": [
    "FOV = 0\n",
    "HYB = 0\n",
    "# Phase image directory. The file name is \"fov_x_hyb_y.nd2\" where x and y are int numbers\n",
    "DATA_DIR = r'Z:\\sandbox\\for_vadim\\nostoc_auto_110924'\n",
    "FILE_NAME = f'fov_{FOV}_hyb_{HYB}'\n",
    "# Start with sub image and adjust parameters accordingly\n",
    "IMG_SLICE = [0, -1, 0, -1]\n",
    "#IMG_SLICE = [300, 600, 300, 600]\n",
    "# If you wish to load the focus masks, this is their path\n",
    "FOCUS_MASKS_PATH = rf'C:\\Users\\LITVINOV\\PycharmProjects\\anabaenaSeg\\fov_{FOV}_hyb_{HYB}\\{FILE_NAME}.seg.npy'\n",
    "# The minimum values for filtering masks by CellPose probability. Combined = (mean+median)/2, SNR = mean/SD\n",
    "MIN_COMBINED_PROBA = 4.25\n",
    "MIN_MEDIAN_PROBA = 4.25\n",
    "MIN_SNR_PROBA = 4.25\n",
    "# Radius to search other masks in different z slices\n",
    "RADIUS_FROM_CENTROID = 2\n",
    "# Determine Z and X,Y span of each cell by looking at the image (for the sliced region)\n",
    "Z_SPAN = 3\n",
    "XY_SPAN = 3\n",
    "# The operator for the 3 probability constraints. If \"and\" is too strict, use \"or\"\n",
    "#OPERATOR = 'and'\n",
    "OPERATOR = 'or'\n",
    "# If it is the first run, assign all False. The program will create the CellPose output masks, will differentiate the focus masks out of them, and will calculate the region image properties for each focus mask (area, perimeter, centroid, etc.)\n",
    "LOAD_MODEL_OUTPUT_MASKS = False\n",
    "LOAD_ALGORITHM_FOCUS_MASKS = False\n",
    "LOAD_REGION_PROPS = False"
   ],
   "metadata": {
    "collapsed": false
   }
  },
  {
   "cell_type": "markdown",
   "source": [
    "1.  1. If LOAD_MODEL_OUTPUT_MASKS is False, load the .nd2 file, and predict segmentation masks with CellPose.\n",
    "    2. Relabel the masks, such that each mask in each z slice will have unique identifier.\n",
    "    3. Save model segmentation masks as .npy file\n",
    "2.  1. if LOAD_MODEL_OUTPUT_MASKS is True, change location to the current Field Of View directory where you want to save the focus masks\n",
    "    2. Load the .nd2 file\n",
    "    3. load CellPose model saved segmentations masks"
   ],
   "metadata": {
    "collapsed": false
   }
  },
  {
   "cell_type": "code",
   "execution_count": null,
   "outputs": [],
   "source": [
    "cwd = os.getcwd()\n",
    "target_dir = os.path.join(cwd, FILE_NAME)\n",
    "os.makedirs(target_dir, exist_ok=True)\n",
    "if not LOAD_MODEL_OUTPUT_MASKS:\n",
    "    image, original_masks, flows, styles, probabilities = loadImgTrainModel(FOV, HYB, DATA_DIR, IMG_SLICE)\n",
    "    masks_relab = relabelMasks(original_masks)\n",
    "    saveModelSegmentationsAndProps(masks_relab, None, None, probabilities, FOV, HYB, to_final_folder=False, dir_name=FILE_NAME)\n",
    "else:\n",
    "    #os.chdir(f'C:\\\\Users\\\\LITVINOV\\\\PycharmProjects\\\\anabaenaSeg\\\\{FILE_NAME}')\n",
    "    image = loadNd2SaveTiff(DATA_DIR, FOV, HYB, IMG_SLICE)\n",
    "    masks_relab, probabilities = loadModelSegmentations(FILE_NAME, FOV)"
   ],
   "metadata": {
    "collapsed": false
   }
  },
  {
   "cell_type": "markdown",
   "source": [
    "Take only the phase for differentiating the focus layer. If LOAD_ALGORITHM_FOCUS_MASKS is False, create the data structures and differentiate the focus masks from all the masks outputted by CellPose. If it is TRUE, load it"
   ],
   "metadata": {
    "collapsed": false
   }
  },
  {
   "cell_type": "code",
   "execution_count": null,
   "outputs": [],
   "source": [
    "img_phase_channel = image[:, 0, :, :]\n",
    "if not LOAD_ALGORITHM_FOCUS_MASKS:\n",
    "    masks_copy = np.array(masks_relab, copy=True)\n",
    "    labels_to_keep_main, filtered_masks_relab = DifferentiateFocusLayer(probabilities, img_phase_channel, masks_copy, Z_SPAN, XY_SPAN, RADIUS_FROM_CENTROID, MIN_SNR_PROBA, MIN_MEDIAN_PROBA, MIN_COMBINED_PROBA, OPERATOR)\n",
    "    focus_masks = createFocusMasks(masks_relab, labels_to_keep_main)\n",
    "else:\n",
    "    focus_masks = loadFocusMasks(FOCUS_MASKS_PATH)"
   ],
   "metadata": {
    "collapsed": false
   }
  },
  {
   "cell_type": "markdown",
   "source": [
    "The algorithm may not produce the optimal focus masks for all cells, so manually correct with brush in Napari viewer"
   ],
   "metadata": {
    "collapsed": false
   }
  },
  {
   "cell_type": "code",
   "execution_count": null,
   "outputs": [],
   "source": [
    "focus_masks = useBrushToAddAndDrop(img_phase_channel, masks_relab, focus_masks)"
   ],
   "metadata": {
    "collapsed": false
   }
  },
  {
   "cell_type": "markdown",
   "source": [
    "The masks are filtered, and have their old non-consecutive names. Relabel them"
   ],
   "metadata": {
    "collapsed": false
   }
  },
  {
   "cell_type": "code",
   "execution_count": null,
   "outputs": [],
   "source": [
    "focus_masks = relabelMasksConsecutive(focus_masks)"
   ],
   "metadata": {
    "collapsed": false
   }
  },
  {
   "cell_type": "markdown",
   "source": [
    "Now we need to create region props for the masks (area, centroid, orientation, eccentricity...). Create or Load them if it is already exists"
   ],
   "metadata": {
    "collapsed": false
   }
  },
  {
   "cell_type": "code",
   "execution_count": null,
   "outputs": [],
   "source": [
    "if LOAD_REGION_PROPS:\n",
    "    prop_df_merged = getRegionProps(None, file_name=FILE_NAME, load=True)\n",
    "else:\n",
    "    prop_df_merged = getRegionProps(focus_masks, file_name=None, load=False)"
   ],
   "metadata": {
    "collapsed": false
   }
  },
  {
   "cell_type": "markdown",
   "source": [
    "Manually add heterocyst column to the region props. 1 if heterocyst and 0 is vegetative"
   ],
   "metadata": {
    "collapsed": false
   }
  },
  {
   "cell_type": "code",
   "execution_count": null,
   "outputs": [],
   "source": [
    "prop_df_merged = addHeterocystColumn(img_phase_channel, focus_masks, prop_df_merged)"
   ],
   "metadata": {
    "collapsed": false
   }
  },
  {
   "cell_type": "markdown",
   "source": [
    "Save all the CellPose masks, the focus masks, and the props of the focus masks to the current working directory"
   ],
   "metadata": {
    "collapsed": false
   }
  },
  {
   "cell_type": "code",
   "execution_count": null,
   "outputs": [],
   "source": [
    "saveModelSegmentationsAndProps(masks_relab, focus_masks, prop_df_merged, proba=None, fov=FOV, hyb=HYB,\n",
    "                                   to_final_folder=True, dir_name=FILE_NAME)"
   ],
   "metadata": {
    "collapsed": false
   }
  },
  {
   "cell_type": "markdown",
   "source": [],
   "metadata": {
    "collapsed": false
   }
  }
 ],
 "metadata": {
  "kernelspec": {
   "display_name": "Python 3",
   "language": "python",
   "name": "python3"
  },
  "language_info": {
   "codemirror_mode": {
    "name": "ipython",
    "version": 2
   },
   "file_extension": ".py",
   "mimetype": "text/x-python",
   "name": "python",
   "nbconvert_exporter": "python",
   "pygments_lexer": "ipython2",
   "version": "2.7.6"
  }
 },
 "nbformat": 4,
 "nbformat_minor": 0
}
